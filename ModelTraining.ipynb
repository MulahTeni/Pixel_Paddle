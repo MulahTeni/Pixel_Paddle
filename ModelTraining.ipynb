{
 "cells": [
  {
   "cell_type": "code",
   "execution_count": 9,
   "id": "0c20a663-4b31-4e3b-9884-5a87041f52dd",
   "metadata": {},
   "outputs": [],
   "source": [
    "import pandas as pd\n",
    "import numpy as np\n",
    "import matplotlib.pyplot as plt\n",
    "from sklearn.utils import shuffle\n",
    "from sklearn.model_selection import train_test_split\n",
    "from keras.models import Sequential\n",
    "from keras.optimizers import Adam\n",
    "from keras.layers import Dropout, Dense"
   ]
  },
  {
   "cell_type": "code",
   "execution_count": 2,
   "id": "610ecd62-df50-4389-b051-739bcbdcb245",
   "metadata": {},
   "outputs": [
    {
     "data": {
      "text/html": [
       "<div>\n",
       "<style scoped>\n",
       "    .dataframe tbody tr th:only-of-type {\n",
       "        vertical-align: middle;\n",
       "    }\n",
       "\n",
       "    .dataframe tbody tr th {\n",
       "        vertical-align: top;\n",
       "    }\n",
       "\n",
       "    .dataframe thead th {\n",
       "        text-align: right;\n",
       "    }\n",
       "</style>\n",
       "<table border=\"1\" class=\"dataframe\">\n",
       "  <thead>\n",
       "    <tr style=\"text-align: right;\">\n",
       "      <th></th>\n",
       "      <th>ball.x_coor</th>\n",
       "      <th>ball.y_coor</th>\n",
       "      <th>ball.x_vel</th>\n",
       "      <th>ball.y_vel</th>\n",
       "      <th>player_blue.rect.y</th>\n",
       "      <th>player_action</th>\n",
       "    </tr>\n",
       "  </thead>\n",
       "  <tbody>\n",
       "    <tr>\n",
       "      <th>0</th>\n",
       "      <td>640.0</td>\n",
       "      <td>360.0</td>\n",
       "      <td>338.000000</td>\n",
       "      <td>-268.000000</td>\n",
       "      <td>300</td>\n",
       "      <td>0</td>\n",
       "    </tr>\n",
       "    <tr>\n",
       "      <th>1</th>\n",
       "      <td>645.0</td>\n",
       "      <td>356.0</td>\n",
       "      <td>338.357514</td>\n",
       "      <td>-268.899068</td>\n",
       "      <td>300</td>\n",
       "      <td>0</td>\n",
       "    </tr>\n",
       "    <tr>\n",
       "      <th>2</th>\n",
       "      <td>650.0</td>\n",
       "      <td>352.0</td>\n",
       "      <td>339.146370</td>\n",
       "      <td>-269.076101</td>\n",
       "      <td>300</td>\n",
       "      <td>0</td>\n",
       "    </tr>\n",
       "    <tr>\n",
       "      <th>3</th>\n",
       "      <td>655.0</td>\n",
       "      <td>348.0</td>\n",
       "      <td>339.193404</td>\n",
       "      <td>-269.444750</td>\n",
       "      <td>300</td>\n",
       "      <td>0</td>\n",
       "    </tr>\n",
       "    <tr>\n",
       "      <th>4</th>\n",
       "      <td>660.0</td>\n",
       "      <td>344.0</td>\n",
       "      <td>339.504486</td>\n",
       "      <td>-269.889200</td>\n",
       "      <td>300</td>\n",
       "      <td>0</td>\n",
       "    </tr>\n",
       "    <tr>\n",
       "      <th>...</th>\n",
       "      <td>...</td>\n",
       "      <td>...</td>\n",
       "      <td>...</td>\n",
       "      <td>...</td>\n",
       "      <td>...</td>\n",
       "      <td>...</td>\n",
       "    </tr>\n",
       "    <tr>\n",
       "      <th>5650</th>\n",
       "      <td>431.0</td>\n",
       "      <td>564.0</td>\n",
       "      <td>-274.841981</td>\n",
       "      <td>262.503476</td>\n",
       "      <td>400</td>\n",
       "      <td>0</td>\n",
       "    </tr>\n",
       "    <tr>\n",
       "      <th>5651</th>\n",
       "      <td>427.0</td>\n",
       "      <td>568.0</td>\n",
       "      <td>-275.164518</td>\n",
       "      <td>263.040189</td>\n",
       "      <td>400</td>\n",
       "      <td>0</td>\n",
       "    </tr>\n",
       "    <tr>\n",
       "      <th>5652</th>\n",
       "      <td>423.0</td>\n",
       "      <td>572.0</td>\n",
       "      <td>-275.219769</td>\n",
       "      <td>263.542067</td>\n",
       "      <td>400</td>\n",
       "      <td>0</td>\n",
       "    </tr>\n",
       "    <tr>\n",
       "      <th>5653</th>\n",
       "      <td>419.0</td>\n",
       "      <td>576.0</td>\n",
       "      <td>-275.390089</td>\n",
       "      <td>264.051264</td>\n",
       "      <td>400</td>\n",
       "      <td>0</td>\n",
       "    </tr>\n",
       "    <tr>\n",
       "      <th>5654</th>\n",
       "      <td>415.0</td>\n",
       "      <td>580.0</td>\n",
       "      <td>-276.073823</td>\n",
       "      <td>264.345256</td>\n",
       "      <td>400</td>\n",
       "      <td>0</td>\n",
       "    </tr>\n",
       "  </tbody>\n",
       "</table>\n",
       "<p>5655 rows × 6 columns</p>\n",
       "</div>"
      ],
      "text/plain": [
       "      ball.x_coor  ball.y_coor  ball.x_vel  ball.y_vel  player_blue.rect.y  \\\n",
       "0           640.0        360.0  338.000000 -268.000000                 300   \n",
       "1           645.0        356.0  338.357514 -268.899068                 300   \n",
       "2           650.0        352.0  339.146370 -269.076101                 300   \n",
       "3           655.0        348.0  339.193404 -269.444750                 300   \n",
       "4           660.0        344.0  339.504486 -269.889200                 300   \n",
       "...           ...          ...         ...         ...                 ...   \n",
       "5650        431.0        564.0 -274.841981  262.503476                 400   \n",
       "5651        427.0        568.0 -275.164518  263.040189                 400   \n",
       "5652        423.0        572.0 -275.219769  263.542067                 400   \n",
       "5653        419.0        576.0 -275.390089  264.051264                 400   \n",
       "5654        415.0        580.0 -276.073823  264.345256                 400   \n",
       "\n",
       "      player_action  \n",
       "0                 0  \n",
       "1                 0  \n",
       "2                 0  \n",
       "3                 0  \n",
       "4                 0  \n",
       "...             ...  \n",
       "5650              0  \n",
       "5651              0  \n",
       "5652              0  \n",
       "5653              0  \n",
       "5654              0  \n",
       "\n",
       "[5655 rows x 6 columns]"
      ]
     },
     "execution_count": 2,
     "metadata": {},
     "output_type": "execute_result"
    }
   ],
   "source": [
    "df = pd.read_csv(\"data.csv\")\n",
    "x = df.copy()\n",
    "x"
   ]
  },
  {
   "cell_type": "code",
   "execution_count": 3,
   "id": "88d4ec11-ff4c-4003-8e49-d0fee3d646af",
   "metadata": {},
   "outputs": [
    {
     "name": "stdout",
     "output_type": "stream",
     "text": [
      "total data: 5655\n"
     ]
    },
    {
     "data": {
      "image/png": "[encoded data removed]",
      "text/plain": [
       "<Figure size 640x480 with 1 Axes>"
      ]
     },
     "metadata": {},
     "output_type": "display_data"
    }
   ],
   "source": [
    "num_bins = 25\n",
    "samples_per_bin = 1500\n",
    "hist, bins = np.histogram(x['player_action'], num_bins)\n",
    "center = (bins[:-1]+ bins[1:]) * 0.5\n",
    "plt.bar(center, hist, width=0.05)\n",
    "plt.plot((np.min(x['player_action']), np.max(x['player_action'])), (samples_per_bin, samples_per_bin))\n",
    "print('total data:', len(x['player_action']))"
   ]
  },
  {
   "cell_type": "code",
   "execution_count": 4,
   "id": "c3ff7f92-4a49-4000-b33c-1e043c7ff692",
   "metadata": {},
   "outputs": [
    {
     "name": "stdout",
     "output_type": "stream",
     "text": [
      "removed: 2253\n",
      "remaining: 3402\n"
     ]
    },
    {
     "data": {
      "text/html": [
       "<div>\n",
       "<style scoped>\n",
       "    .dataframe tbody tr th:only-of-type {\n",
       "        vertical-align: middle;\n",
       "    }\n",
       "\n",
       "    .dataframe tbody tr th {\n",
       "        vertical-align: top;\n",
       "    }\n",
       "\n",
       "    .dataframe thead th {\n",
       "        text-align: right;\n",
       "    }\n",
       "</style>\n",
       "<table border=\"1\" class=\"dataframe\">\n",
       "  <thead>\n",
       "    <tr style=\"text-align: right;\">\n",
       "      <th></th>\n",
       "      <th>ball.x_coor</th>\n",
       "      <th>ball.y_coor</th>\n",
       "      <th>ball.x_vel</th>\n",
       "      <th>ball.y_vel</th>\n",
       "      <th>player_blue.rect.y</th>\n",
       "      <th>player_action</th>\n",
       "    </tr>\n",
       "  </thead>\n",
       "  <tbody>\n",
       "    <tr>\n",
       "      <th>0</th>\n",
       "      <td>640.0</td>\n",
       "      <td>360.0</td>\n",
       "      <td>338.000000</td>\n",
       "      <td>-268.000000</td>\n",
       "      <td>300</td>\n",
       "      <td>0</td>\n",
       "    </tr>\n",
       "    <tr>\n",
       "      <th>1</th>\n",
       "      <td>645.0</td>\n",
       "      <td>356.0</td>\n",
       "      <td>338.357514</td>\n",
       "      <td>-268.899068</td>\n",
       "      <td>300</td>\n",
       "      <td>0</td>\n",
       "    </tr>\n",
       "    <tr>\n",
       "      <th>3</th>\n",
       "      <td>655.0</td>\n",
       "      <td>348.0</td>\n",
       "      <td>339.193404</td>\n",
       "      <td>-269.444750</td>\n",
       "      <td>300</td>\n",
       "      <td>0</td>\n",
       "    </tr>\n",
       "    <tr>\n",
       "      <th>4</th>\n",
       "      <td>660.0</td>\n",
       "      <td>344.0</td>\n",
       "      <td>339.504486</td>\n",
       "      <td>-269.889200</td>\n",
       "      <td>300</td>\n",
       "      <td>0</td>\n",
       "    </tr>\n",
       "    <tr>\n",
       "      <th>8</th>\n",
       "      <td>680.0</td>\n",
       "      <td>328.0</td>\n",
       "      <td>340.964860</td>\n",
       "      <td>-273.510722</td>\n",
       "      <td>300</td>\n",
       "      <td>0</td>\n",
       "    </tr>\n",
       "    <tr>\n",
       "      <th>...</th>\n",
       "      <td>...</td>\n",
       "      <td>...</td>\n",
       "      <td>...</td>\n",
       "      <td>...</td>\n",
       "      <td>...</td>\n",
       "      <td>...</td>\n",
       "    </tr>\n",
       "    <tr>\n",
       "      <th>5646</th>\n",
       "      <td>447.0</td>\n",
       "      <td>548.0</td>\n",
       "      <td>-271.852016</td>\n",
       "      <td>260.893257</td>\n",
       "      <td>400</td>\n",
       "      <td>0</td>\n",
       "    </tr>\n",
       "    <tr>\n",
       "      <th>5647</th>\n",
       "      <td>443.0</td>\n",
       "      <td>552.0</td>\n",
       "      <td>-272.358069</td>\n",
       "      <td>261.000847</td>\n",
       "      <td>400</td>\n",
       "      <td>0</td>\n",
       "    </tr>\n",
       "    <tr>\n",
       "      <th>5648</th>\n",
       "      <td>439.0</td>\n",
       "      <td>556.0</td>\n",
       "      <td>-273.286852</td>\n",
       "      <td>261.827781</td>\n",
       "      <td>400</td>\n",
       "      <td>0</td>\n",
       "    </tr>\n",
       "    <tr>\n",
       "      <th>5650</th>\n",
       "      <td>431.0</td>\n",
       "      <td>564.0</td>\n",
       "      <td>-274.841981</td>\n",
       "      <td>262.503476</td>\n",
       "      <td>400</td>\n",
       "      <td>0</td>\n",
       "    </tr>\n",
       "    <tr>\n",
       "      <th>5651</th>\n",
       "      <td>427.0</td>\n",
       "      <td>568.0</td>\n",
       "      <td>-275.164518</td>\n",
       "      <td>263.040189</td>\n",
       "      <td>400</td>\n",
       "      <td>0</td>\n",
       "    </tr>\n",
       "  </tbody>\n",
       "</table>\n",
       "<p>3402 rows × 6 columns</p>\n",
       "</div>"
      ],
      "text/plain": [
       "      ball.x_coor  ball.y_coor  ball.x_vel  ball.y_vel  player_blue.rect.y  \\\n",
       "0           640.0        360.0  338.000000 -268.000000                 300   \n",
       "1           645.0        356.0  338.357514 -268.899068                 300   \n",
       "3           655.0        348.0  339.193404 -269.444750                 300   \n",
       "4           660.0        344.0  339.504486 -269.889200                 300   \n",
       "8           680.0        328.0  340.964860 -273.510722                 300   \n",
       "...           ...          ...         ...         ...                 ...   \n",
       "5646        447.0        548.0 -271.852016  260.893257                 400   \n",
       "5647        443.0        552.0 -272.358069  261.000847                 400   \n",
       "5648        439.0        556.0 -273.286852  261.827781                 400   \n",
       "5650        431.0        564.0 -274.841981  262.503476                 400   \n",
       "5651        427.0        568.0 -275.164518  263.040189                 400   \n",
       "\n",
       "      player_action  \n",
       "0                 0  \n",
       "1                 0  \n",
       "3                 0  \n",
       "4                 0  \n",
       "8                 0  \n",
       "...             ...  \n",
       "5646              0  \n",
       "5647              0  \n",
       "5648              0  \n",
       "5650              0  \n",
       "5651              0  \n",
       "\n",
       "[3402 rows x 6 columns]"
      ]
     },
     "execution_count": 4,
     "metadata": {},
     "output_type": "execute_result"
    }
   ],
   "source": [
    "remove_list = []\n",
    "for j in range(num_bins):\n",
    "    list_ = []\n",
    "    for i in range(len(x['player_action'])):\n",
    "        if x['player_action'][i] >= bins[j] and x['player_action'][i] <= bins[j+1]:\n",
    "            list_.append(i)\n",
    "    list_ = shuffle(list_)\n",
    "    list_ = list_[samples_per_bin:]\n",
    "    remove_list.extend(list_)\n",
    "\n",
    "print('removed:', len(remove_list))\n",
    "x.drop(x.index[remove_list], inplace=True)\n",
    "print('remaining:', len(x['player_action']))\n",
    "x"
   ]
  },
  {
   "cell_type": "code",
   "execution_count": 5,
   "id": "efe54a10-5fce-4fc5-b354-d3026c90902e",
   "metadata": {},
   "outputs": [
    {
     "data": {
      "text/plain": [
       "0       0\n",
       "1       0\n",
       "3       0\n",
       "4       0\n",
       "8       0\n",
       "       ..\n",
       "5646    0\n",
       "5647    0\n",
       "5648    0\n",
       "5650    0\n",
       "5651    0\n",
       "Name: player_action, Length: 3402, dtype: int64"
      ]
     },
     "execution_count": 5,
     "metadata": {},
     "output_type": "execute_result"
    }
   ],
   "source": [
    "y = x['player_action']\n",
    "y"
   ]
  },
  {
   "cell_type": "code",
   "execution_count": 6,
   "id": "561b7759-08f8-484c-ab02-ec026eb70eed",
   "metadata": {},
   "outputs": [
    {
     "name": "stdout",
     "output_type": "stream",
     "text": [
      "total data: 3402\n"
     ]
    },
    {
     "data": {
      "image/png": "[encoded data removed]",
      "text/plain": [
       "<Figure size 640x480 with 1 Axes>"
      ]
     },
     "metadata": {},
     "output_type": "display_data"
    }
   ],
   "source": [
    "hist, bins = np.histogram(y, num_bins)\n",
    "center = (bins[:-1]+ bins[1:]) * 0.5\n",
    "plt.bar(center, hist, width=0.05)\n",
    "plt.plot((np.min(y), np.max(y)), (samples_per_bin, samples_per_bin))\n",
    "print('total data:', len(y))"
   ]
  },
  {
   "cell_type": "code",
   "execution_count": 7,
   "id": "e91a4f2c-8e47-4dc1-8a2d-1a7199963040",
   "metadata": {},
   "outputs": [
    {
     "name": "stdout",
     "output_type": "stream",
     "text": [
      "Training Samples: 2721\n",
      "Valid Samples: 681\n"
     ]
    },
    {
     "data": {
      "text/plain": [
       "Text(0.5, 1.0, 'Validation set')"
      ]
     },
     "execution_count": 7,
     "metadata": {},
     "output_type": "execute_result"
    },
    {
     "data": {
      "image/png": "[encoded data removed]",
      "text/plain": [
       "<Figure size 1200x400 with 2 Axes>"
      ]
     },
     "metadata": {},
     "output_type": "display_data"
    }
   ],
   "source": [
    "X_train, X_valid, y_train, y_valid = train_test_split(x, y, test_size=0.2, random_state=1)\n",
    "print('Training Samples: {}\\nValid Samples: {}'.format(len(X_train), len(X_valid)))\n",
    "fig, axes = plt.subplots(1, 2, figsize=(12, 4))\n",
    "axes[0].hist(y_train, bins=num_bins, width=0.05, color='blue')\n",
    "axes[0].set_title('Training set')\n",
    "axes[1].hist(y_valid, bins=num_bins, width=0.05, color='red')\n",
    "axes[1].set_title('Validation set')"
   ]
  },
  {
   "cell_type": "code",
   "execution_count": 15,
   "id": "2f4050dd-420b-4b92-bf8e-856d49a1a3b4",
   "metadata": {},
   "outputs": [],
   "source": [
    "def game_model():\n",
    "    model = Sequential()\n",
    "    model.add(Dense(128, activation='selu', input_shape=(6,)))\n",
    "    model.add(Dropout(0.5))\n",
    "    model.add(Dense(64, activation='selu'))\n",
    "    model.add(Dropout(0.5))\n",
    "    model.add(Dense(32, activation='selu'))\n",
    "    model.add(Dropout(0.5))\n",
    "    model.add(Dense(3, activation='softmax'))\n",
    "    optimizer = Adam(learning_rate=1e-3)\n",
    "    model.compile(loss='mse', optimizer=optimizer, metrics=['mae'])\n",
    "    return model"
   ]
  },
  {
   "cell_type": "code",
   "execution_count": 16,
   "id": "a8acd862-a95d-4342-aeed-d144a8d701fe",
   "metadata": {},
   "outputs": [
    {
     "name": "stdout",
     "output_type": "stream",
     "text": [
      "Model: \"sequential_1\"\n",
      "_________________________________________________________________\n",
      " Layer (type)                Output Shape              Param #   \n",
      "=================================================================\n",
      " dense_4 (Dense)             (None, 128)               896       \n",
      "                                                                 \n",
      " dropout_3 (Dropout)         (None, 128)               0         \n",
      "                                                                 \n",
      " dense_5 (Dense)             (None, 64)                8256      \n",
      "                                                                 \n",
      " dropout_4 (Dropout)         (None, 64)                0         \n",
      "                                                                 \n",
      " dense_6 (Dense)             (None, 32)                2080      \n",
      "                                                                 \n",
      " dropout_5 (Dropout)         (None, 32)                0         \n",
      "                                                                 \n",
      " dense_7 (Dense)             (None, 3)                 99        \n",
      "                                                                 \n",
      "=================================================================\n",
      "Total params: 11331 (44.26 KB)\n",
      "Trainable params: 11331 (44.26 KB)\n",
      "Non-trainable params: 0 (0.00 Byte)\n",
      "_________________________________________________________________\n",
      "None\n"
     ]
    }
   ],
   "source": [
    "model = game_model()\n",
    "print(model.summary())"
   ]
  },
  {
   "cell_type": "code",
   "execution_count": 19,
   "id": "0bd41444-45e4-47b3-8387-ccda6e716164",
   "metadata": {},
   "outputs": [
    {
     "name": "stdout",
     "output_type": "stream",
     "text": [
      "Epoch 1/10\n",
      "171/200 [========================>.....] - ETA: 0s - loss: 1.2225 - mae: 0.8211WARNING:tensorflow:Your input ran out of data; interrupting training. Make sure that your dataset or generator can generate at least `steps_per_epoch * epochs` batches (in this case, 200 batches). You may need to use the repeat() function when building your dataset.\n",
      "200/200 [==============================] - 0s 2ms/step - loss: 1.2254 - mae: 0.8232 - val_loss: 1.1953 - val_mae: 0.8076\n",
      "Epoch 2/10\n",
      "200/200 [==============================] - 0s 1ms/step - loss: 1.2212 - mae: 0.8209\n",
      "Epoch 3/10\n",
      "200/200 [==============================] - 0s 1ms/step - loss: 1.2157 - mae: 0.8175\n",
      "Epoch 4/10\n",
      "200/200 [==============================] - 0s 1ms/step - loss: 1.2186 - mae: 0.8204\n",
      "Epoch 5/10\n",
      "200/200 [==============================] - 0s 1ms/step - loss: 1.2219 - mae: 0.8213\n",
      "Epoch 6/10\n",
      "200/200 [==============================] - 0s 1ms/step - loss: 1.2337 - mae: 0.8263\n",
      "Epoch 7/10\n",
      "200/200 [==============================] - 0s 1ms/step - loss: 1.2096 - mae: 0.8154\n",
      "Epoch 8/10\n",
      "200/200 [==============================] - 0s 1ms/step - loss: 1.2095 - mae: 0.8156\n",
      "Epoch 9/10\n",
      "200/200 [==============================] - 0s 2ms/step - loss: 1.2259 - mae: 0.8229\n",
      "Epoch 10/10\n",
      "126/200 [=================>............] - ETA: 0s - loss: 1.2243 - mae: 0.8231WARNING:tensorflow:Your input ran out of data; interrupting training. Make sure that your dataset or generator can generate at least `steps_per_epoch * epochs` batches (in this case, 2000 batches). You may need to use the repeat() function when building your dataset.\n",
      "200/200 [==============================] - 0s 1ms/step - loss: 1.2168 - mae: 0.8191\n"
     ]
    }
   ],
   "source": [
    "history = model.fit(X_train, y_train, epochs=10, validation_data=(X_valid, y_valid), steps_per_epoch=200, validation_steps=200, verbose=1, shuffle = 1)"
   ]
  },
  {
   "cell_type": "code",
   "execution_count": null,
   "id": "8ad5d7c1-3841-4873-a982-78b40b91765c",
   "metadata": {},
   "outputs": [],
   "source": []
  }
 ],
 "metadata": {
  "kernelspec": {
   "display_name": "Python 3 (ipykernel)",
   "language": "python",
   "name": "python3"
  },
  "language_info": {
   "codemirror_mode": {
    "name": "ipython",
    "version": 3
   },
   "file_extension": ".py",
   "mimetype": "text/x-python",
   "name": "python",
   "nbconvert_exporter": "python",
   "pygments_lexer": "ipython3",
   "version": "3.11.4"
  }
 },
 "nbformat": 4,
 "nbformat_minor": 5
}
